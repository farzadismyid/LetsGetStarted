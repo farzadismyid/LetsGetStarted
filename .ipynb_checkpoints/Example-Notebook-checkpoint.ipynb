{
 "cells": [
  {
   "cell_type": "code",
   "execution_count": 1,
   "id": "73a40bca-f12b-4be1-8265-ff87338400f4",
   "metadata": {},
   "outputs": [],
   "source": [
    "# my first notebook for hugging face"
   ]
  },
  {
   "cell_type": "code",
   "execution_count": 2,
   "id": "d6b9b4ad-a425-4cd4-98ac-efa0a4971945",
   "metadata": {},
   "outputs": [
    {
     "data": {
      "text/plain": [
       "24"
      ]
     },
     "execution_count": 2,
     "metadata": {},
     "output_type": "execute_result"
    }
   ],
   "source": [
    "12+12"
   ]
  },
  {
   "cell_type": "code",
   "execution_count": null,
   "id": "ace1a8f7-781f-476d-bf5b-986e14db0827",
   "metadata": {},
   "outputs": [],
   "source": []
  }
 ],
 "metadata": {
  "kernelspec": {
   "display_name": "Python 3 (ipykernel)",
   "language": "python",
   "name": "python3"
  },
  "language_info": {
   "codemirror_mode": {
    "name": "ipython",
    "version": 3
   },
   "file_extension": ".py",
   "mimetype": "text/x-python",
   "name": "python",
   "nbconvert_exporter": "python",
   "pygments_lexer": "ipython3",
   "version": "3.13.2"
  }
 },
 "nbformat": 4,
 "nbformat_minor": 5
}
